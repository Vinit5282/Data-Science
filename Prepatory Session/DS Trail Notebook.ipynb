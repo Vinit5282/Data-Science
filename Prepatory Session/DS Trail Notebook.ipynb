{
 "cells": [
  {
   "cell_type": "code",
   "execution_count": 6,
   "id": "44750438",
   "metadata": {},
   "outputs": [
    {
     "name": "stdout",
     "output_type": "stream",
     "text": [
      "Hello myself Vinit Kishor Koli Wishing you the luck for your new learning journey\n"
     ]
    }
   ],
   "source": [
    "print(\"Hello myself Vinit Kishor Koli Wishing you the luck for your new learning journey\")"
   ]
  },
  {
   "cell_type": "code",
   "execution_count": 5,
   "id": "93eb5f6c",
   "metadata": {},
   "outputs": [
    {
     "name": "stdout",
     "output_type": "stream",
     "text": [
      "Hello Data Science,Machine Learning, Neutral Network \n"
     ]
    }
   ],
   "source": [
    "print(\"Hello Data Science,Machine Learning, Neutral Network \")"
   ]
  }
 ],
 "metadata": {
  "kernelspec": {
   "display_name": "Python 3 (ipykernel)",
   "language": "python",
   "name": "python3"
  },
  "language_info": {
   "codemirror_mode": {
    "name": "ipython",
    "version": 3
   },
   "file_extension": ".py",
   "mimetype": "text/x-python",
   "name": "python",
   "nbconvert_exporter": "python",
   "pygments_lexer": "ipython3",
   "version": "3.11.4"
  }
 },
 "nbformat": 4,
 "nbformat_minor": 5
}
